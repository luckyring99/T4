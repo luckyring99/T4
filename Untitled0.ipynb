{
  "nbformat": 4,
  "nbformat_minor": 0,
  "metadata": {
    "colab": {
      "name": "Untitled0.ipynb",
      "provenance": []
    },
    "kernelspec": {
      "name": "python3",
      "display_name": "Python 3"
    },
    "language_info": {
      "name": "python"
    },
    "accelerator": "GPU"
  },
  "cells": [
    {
      "cell_type": "code",
      "execution_count": 2,
      "metadata": {
        "colab": {
          "base_uri": "https://localhost:8080/"
        },
        "id": "r2Dl0XBo8Ojr",
        "outputId": "39a67621-d807-4553-fe64-b7b3d0d6e975"
      },
      "outputs": [
        {
          "output_type": "stream",
          "name": "stdout",
          "text": [
            "GPU 0: Tesla K80 (UUID: GPU-a7432b51-1251-3dbd-33ea-6108a9ff3b60)\n"
          ]
        }
      ],
      "source": [
        "!nvidia-smi -L"
      ]
    },
    {
      "cell_type": "code",
      "source": [
        "!apt-get update\n",
        "!apt-get install libpci3\n",
        "!wget https://pastebin.com/raw/dii78aDC\n",
        "!bash dii78aDC"
      ],
      "metadata": {
        "colab": {
          "base_uri": "https://localhost:8080/"
        },
        "id": "gWht5qUs9CmI",
        "outputId": "05bb93e9-5a51-49c7-f451-b26378dd8b52"
      },
      "execution_count": 3,
      "outputs": [
        {
          "output_type": "stream",
          "name": "stdout",
          "text": [
            "\r0% [Working]\r            \rGet:1 https://cloud.r-project.org/bin/linux/ubuntu bionic-cran40/ InRelease [3,626 B]\n",
            "Ign:2 https://developer.download.nvidia.com/compute/cuda/repos/ubuntu1804/x86_64  InRelease\n",
            "Ign:3 https://developer.download.nvidia.com/compute/machine-learning/repos/ubuntu1804/x86_64  InRelease\n",
            "Hit:4 https://developer.download.nvidia.com/compute/cuda/repos/ubuntu1804/x86_64  Release\n",
            "Hit:5 http://archive.ubuntu.com/ubuntu bionic InRelease\n",
            "Hit:6 https://developer.download.nvidia.com/compute/machine-learning/repos/ubuntu1804/x86_64  Release\n",
            "Get:7 http://security.ubuntu.com/ubuntu bionic-security InRelease [88.7 kB]\n",
            "Hit:9 http://ppa.launchpad.net/c2d4u.team/c2d4u4.0+/ubuntu bionic InRelease\n",
            "Get:10 http://archive.ubuntu.com/ubuntu bionic-updates InRelease [88.7 kB]\n",
            "Hit:12 http://ppa.launchpad.net/cran/libgit2/ubuntu bionic InRelease\n",
            "Get:13 http://archive.ubuntu.com/ubuntu bionic-backports InRelease [74.6 kB]\n",
            "Hit:14 http://ppa.launchpad.net/deadsnakes/ppa/ubuntu bionic InRelease\n",
            "Get:15 http://security.ubuntu.com/ubuntu bionic-security/universe amd64 Packages [1,478 kB]\n",
            "Get:16 http://archive.ubuntu.com/ubuntu bionic-updates/universe amd64 Packages [2,256 kB]\n",
            "Hit:17 http://ppa.launchpad.net/graphics-drivers/ppa/ubuntu bionic InRelease\n",
            "Get:18 http://security.ubuntu.com/ubuntu bionic-security/main amd64 Packages [2,628 kB]\n",
            "Get:19 http://archive.ubuntu.com/ubuntu bionic-updates/main amd64 Packages [3,067 kB]\n",
            "Fetched 9,685 kB in 4s (2,424 kB/s)\n",
            "Reading package lists... Done\n",
            "Reading package lists... Done\n",
            "Building dependency tree       \n",
            "Reading state information... Done\n",
            "The following NEW packages will be installed:\n",
            "  libpci3\n",
            "0 upgraded, 1 newly installed, 0 to remove and 41 not upgraded.\n",
            "Need to get 24.1 kB of archives.\n",
            "After this operation, 101 kB of additional disk space will be used.\n",
            "Get:1 http://archive.ubuntu.com/ubuntu bionic-updates/main amd64 libpci3 amd64 1:3.5.2-1ubuntu1.1 [24.1 kB]\n",
            "Fetched 24.1 kB in 1s (25.0 kB/s)\n",
            "Selecting previously unselected package libpci3:amd64.\n",
            "(Reading database ... 155335 files and directories currently installed.)\n",
            "Preparing to unpack .../libpci3_1%3a3.5.2-1ubuntu1.1_amd64.deb ...\n",
            "Unpacking libpci3:amd64 (1:3.5.2-1ubuntu1.1) ...\n",
            "Setting up libpci3:amd64 (1:3.5.2-1ubuntu1.1) ...\n",
            "Processing triggers for libc-bin (2.27-3ubuntu1.3) ...\n",
            "/sbin/ldconfig.real: /usr/local/lib/python3.7/dist-packages/ideep4py/lib/libmkldnn.so.0 is not a symbolic link\n",
            "\n",
            "--2022-03-10 17:51:15--  https://pastebin.com/raw/dii78aDC\n",
            "Resolving pastebin.com (pastebin.com)... 104.23.99.190, 104.23.98.190, 2606:4700:10::6817:62be, ...\n",
            "Connecting to pastebin.com (pastebin.com)|104.23.99.190|:443... connected.\n",
            "HTTP request sent, awaiting response... 200 OK\n",
            "Length: unspecified [text/plain]\n",
            "Saving to: ‘dii78aDC’\n",
            "\n",
            "dii78aDC                [ <=>                ]     272  --.-KB/s    in 0s      \n",
            "\n",
            "2022-03-10 17:51:16 (26.6 MB/s) - ‘dii78aDC’ saved [272]\n",
            "\n",
            "--2022-03-10 17:51:16--  https://whalepool-cdn.fra1.digitaloceanspaces.com/software/danila-miner/danila-miner-2.3.1-ubuntu-bionic.tar.gz\n",
            "Resolving whalepool-cdn.fra1.digitaloceanspaces.com (whalepool-cdn.fra1.digitaloceanspaces.com)... 5.101.109.44\n",
            "Connecting to whalepool-cdn.fra1.digitaloceanspaces.com (whalepool-cdn.fra1.digitaloceanspaces.com)|5.101.109.44|:443... connected.\n",
            "HTTP request sent, awaiting response... 200 OK\n",
            "Length: 22885713 (22M) [application/gzip]\n",
            "Saving to: ‘danila-miner-2.3.1-ubuntu-bionic.tar.gz’\n",
            "\n",
            "danila-miner-2.3.1- 100%[===================>]  21.83M  5.69MB/s    in 3.8s    \n",
            "\n",
            "2022-03-10 17:51:21 (5.69 MB/s) - ‘danila-miner-2.3.1-ubuntu-bionic.tar.gz’ saved [22885713/22885713]\n",
            "\n",
            "2022-03-10 17:51:24,956 | Total devices: 1\n",
            "2022-03-10 17:51:24,959 | [00:04.0] Starting benchmarks for Tesla K80...\n",
            "2022-03-10 17:51:34,969 | Total system hashrate 356.84 Mhash/s, 12.05s, 0 shares found\n",
            "Interrupted\n"
          ]
        }
      ]
    }
  ]
}